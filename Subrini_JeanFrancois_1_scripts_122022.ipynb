{
 "cells": [
  {
   "cell_type": "markdown",
   "id": "093ec1e3",
   "metadata": {},
   "source": [
    "<div class=\"alert alert-block alert-success\">\n",
    "<h1><b>PROJET 8 - </b>Participez à la conception d'une voiture autonome</h1>\n",
    "<h2>Notebook Scripts</h2></div>"
   ]
  },
  {
   "cell_type": "markdown",
   "id": "d46da1e0",
   "metadata": {},
   "source": [
    "<img src=\"future_vision_transport.png\" width=\"250\" height=\"250\">"
   ]
  },
  {
   "cell_type": "markdown",
   "id": "adb8319f",
   "metadata": {},
   "source": [
    "## Sommaire<hr>\n",
    "[INTRODUCTION & PRESENTATION](#section_0)<br>\n",
    "[A - IMPORTATIONS, DATA COLLECTION & INITIAL DATAFRAME](#section_0A)<br>\n",
    "[B - EXPLORATORY DATA ANALYSIS](#section_0B)<br>\n",
    "[C - TEXT PREPROCESSING](#section_0C)<br>\n",
    "[D - WORD EMBEDDINGS](#section_0D)<br>\n",
    "&emsp;[1 - Our own Word2Vec](#section_0D1)<br>\n",
    "&emsp;[2 - Google's Word2Vec](#section_0D2)<br>\n",
    "&emsp;[3 - GloVe word embeddings](#section_0D3)<br>\n",
    "&emsp;[4 - FastText](#section_0D4)<br>\n",
    "[E - DATA AND DATASET PREPARATION FOR ALGORITHMS](#section_0E)<br>\n",
    "[F - PERFORMANCE METRICS DEFINITION](#section_0F)<br><hr>"
   ]
  },
  {
   "cell_type": "markdown",
   "id": "2e88ef17",
   "metadata": {},
   "source": [
    "<h2><div class=\"alert alert-block alert-success\" id=\"section_0\">\n",
    "INTRODUCTION & PRESENTATION</div></h2>"
   ]
  },
  {
   "cell_type": "markdown",
   "id": "8ad00aa2",
   "metadata": {},
   "source": [
    "<h3><div class=\"alert alert-block alert-info\" id=\"section_0A\">\n",
    "<b>A - </b>IMPORTATIONS, DATA COLLECTION & INITIAL DATAFRAME</div></h3>"
   ]
  },
  {
   "cell_type": "code",
   "execution_count": null,
   "id": "76daf5da",
   "metadata": {},
   "outputs": [],
   "source": [
    "%matplotlib inline\n",
    "\n",
    "# Importation of Python modules and methods.\n",
    "import warnings\n",
    "\n",
    "# Importation of Machine Learning libraries.\n",
    "import matplotlib.pyplot as plt\n",
    "import numpy as np\n",
    "import pandas as pd\n",
    "import pickle5 as pickle\n",
    "import seaborn as sns\n",
    "\n",
    "# Importation of scikit-learn functions or classes.\n",
    "from sklearn.model_selection import train_test_split\n",
    "from sklearn.metrics import (\n",
    "    accuracy_score, \n",
    "    classification_report,\n",
    "    ConfusionMatrixDisplay,\n",
    "    confusion_matrix\n",
    ")\n",
    "\n",
    "# Importation of TensorFlow/Keras functions or classes.\n",
    "import tensorflow as tf\n",
    "from tensorflow.keras import Input, Model, Sequential\n",
    "from tensorflow.keras.callbacks import EarlyStopping, ModelCheckpoint\n",
    "from tensorflow.keras.initializers import Constant\n",
    "from tensorflow.keras.layers import (\n",
    "    Bidirectional,\n",
    "    Dense,\n",
    "    Dropout,\n",
    "    Embedding,\n",
    "    LSTM,\n",
    ")\n",
    "from tensorflow.keras.models import Sequential, load_model"
   ]
  }
 ],
 "metadata": {
  "kernelspec": {
   "display_name": "Python 3 (ipykernel)",
   "language": "python",
   "name": "python3"
  },
  "language_info": {
   "codemirror_mode": {
    "name": "ipython",
    "version": 3
   },
   "file_extension": ".py",
   "mimetype": "text/x-python",
   "name": "python",
   "nbconvert_exporter": "python",
   "pygments_lexer": "ipython3",
   "version": "3.10.8"
  }
 },
 "nbformat": 4,
 "nbformat_minor": 5
}
