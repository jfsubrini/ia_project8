{
 "cells": [
  {
   "cell_type": "markdown",
   "id": "093ec1e3",
   "metadata": {},
   "source": [
    "<div class=\"alert alert-block alert-success\">\n",
    "<h1><b>PROJET 8 - </b>Participez à la conception d'une voiture autonome</h1>\n",
    "<h2>Notebook Scripts</h2></div>"
   ]
  },
  {
   "cell_type": "markdown",
   "id": "d46da1e0",
   "metadata": {},
   "source": [
    "<img src=\"future_vision_transport.png\" width=\"250\" height=\"250\">"
   ]
  },
  {
   "cell_type": "markdown",
   "id": "adb8319f",
   "metadata": {},
   "source": [
    "## Sommaire<hr>\n",
    "[INTRODUCTION & PRESENTATION](#section_0)<br>\n",
    "[A - IMPORTATIONS, DATA COLLECTION & INITIAL DATAFRAME](#section_0A)<br>\n",
    "[B - EXPLORATORY DATA ANALYSIS](#section_0B)<br>\n",
    "[C - TEXT PREPROCESSING](#section_0C)<br>\n",
    "[D - WORD EMBEDDINGS](#section_0D)<br>\n",
    "&emsp;[1 - Our own Word2Vec](#section_0D1)<br>\n",
    "&emsp;[2 - Google's Word2Vec](#section_0D2)<br>\n",
    "&emsp;[3 - GloVe word embeddings](#section_0D3)<br>\n",
    "&emsp;[4 - FastText](#section_0D4)<br>\n",
    "[E - DATA AND DATASET PREPARATION FOR ALGORITHMS](#section_0E)<br>\n",
    "[F - PERFORMANCE METRICS DEFINITION](#section_0F)<br><hr>"
   ]
  },
  {
   "cell_type": "markdown",
   "id": "2e88ef17",
   "metadata": {},
   "source": [
    "<h2><div class=\"alert alert-block alert-success\" id=\"section_0\">\n",
    "INTRODUCTION & PRESENTATION</div></h2>"
   ]
  },
  {
   "cell_type": "markdown",
   "id": "8ad00aa2",
   "metadata": {},
   "source": [
    "<h3><div class=\"alert alert-block alert-info\" id=\"section_0A\">\n",
    "<b>A - </b>IMPORTATIONS, DATA COLLECTION & INITIAL DATAFRAME</div></h3>"
   ]
  },
  {
   "cell_type": "code",
   "execution_count": 1,
   "id": "76daf5da",
   "metadata": {},
   "outputs": [],
   "source": [
    "%matplotlib inline\n",
    "\n",
    "# Importation of Python modules and methods.\n",
    "import warnings\n",
    "\n",
    "# Importation of Machine Learning libraries.\n",
    "import matplotlib.pyplot as plt\n",
    "import numpy as np\n",
    "# import pandas as pd\n",
    "# import pickle5 as pickle\n",
    "\n",
    "# Importation of TensorFlow/Keras functions or classes.\n",
    "import tensorflow as tf\n",
    "from tensorflow.keras import Input, Model, Sequential\n",
    "from tensorflow.keras.callbacks import EarlyStopping, ModelCheckpoint\n",
    "from tensorflow.keras.initializers import Constant\n",
    "from tensorflow.keras.layers import (\n",
    "    Bidirectional,\n",
    "    Dense,\n",
    "    Dropout,\n",
    "    Embedding,\n",
    "    LSTM,\n",
    ")\n",
    "from tensorflow.keras.models import Sequential, load_model"
   ]
  },
  {
   "cell_type": "code",
   "execution_count": 2,
   "id": "3e430139",
   "metadata": {},
   "outputs": [],
   "source": [
    "import os\n",
    "from tensorflow.keras.preprocessing import image\n",
    "import Augmentor\n",
    "import tqdm"
   ]
  },
  {
   "cell_type": "code",
   "execution_count": 3,
   "id": "e60bc047",
   "metadata": {},
   "outputs": [
    {
     "name": "stdout",
     "output_type": "stream",
     "text": [
      "Number of images: 6\n",
      "Number of masks: 4\n"
     ]
    },
    {
     "ename": "AssertionError",
     "evalue": "",
     "output_type": "error",
     "traceback": [
      "\u001b[0;31m---------------------------------------------------------------------------\u001b[0m",
      "\u001b[0;31mAssertionError\u001b[0m                            Traceback (most recent call last)",
      "Cell \u001b[0;32mIn [3], line 11\u001b[0m\n\u001b[1;32m      9\u001b[0m \u001b[38;5;66;03m# sanity check\u001b[39;00m\n\u001b[1;32m     10\u001b[0m \u001b[38;5;28;01mfor\u001b[39;00m i \u001b[38;5;129;01min\u001b[39;00m \u001b[38;5;28mrange\u001b[39m(\u001b[38;5;28mlen\u001b[39m(image_list)):\n\u001b[0;32m---> 11\u001b[0m     \u001b[38;5;28;01massert\u001b[39;00m image_list[i] \u001b[38;5;241m==\u001b[39m mask_list[i]\n\u001b[1;32m     12\u001b[0m \u001b[38;5;28mprint\u001b[39m(image_list[\u001b[38;5;241m2\u001b[39m], mask_list[\u001b[38;5;241m2\u001b[39m])\n",
      "\u001b[0;31mAssertionError\u001b[0m: "
     ]
    }
   ],
   "source": [
    "image_dir = 'datasets/images'\n",
    "mask_dir = 'datasets/masks'\n",
    "image_list = os.listdir(image_dir)\n",
    "mask_list = os.listdir(mask_dir)\n",
    "image_list.sort()\n",
    "mask_list.sort()\n",
    "print(f'Number of images: {len(image_list)}\\nNumber of masks: {len(mask_list)}')\n",
    "\n",
    "# sanity check\n",
    "for i in range(len(image_list)):\n",
    "    assert image_list[i] == mask_list[i]\n",
    "print(image_list[2], mask_list[2])"
   ]
  },
  {
   "cell_type": "code",
   "execution_count": null,
   "id": "a11361c6",
   "metadata": {},
   "outputs": [],
   "source": [
    "p = Augmentor.Pipeline('datasets/images', output_directory='aug_dataset/images')"
   ]
  },
  {
   "cell_type": "code",
   "execution_count": null,
   "id": "00606520",
   "metadata": {},
   "outputs": [],
   "source": [
    "p.ground_truth('datasets/masks')\n",
    "p.rotate(probability=1, max_left_rotation=10, max_right_rotation=10)\n",
    "p.flip_left_right(probability=0.5)\n",
    "p.zoom_random(probability=0.5, percentage_area=0.8)\n",
    "p.skew(probability=0.5, magnitude=0.5)\n",
    "p.skew_tilt(probability=0.5, magnitude=0.5)\n",
    "p.random_distortion(probability=0.5,grid_height=4, grid_width=4, magnitude=4)\n",
    "p.shear(probability=0.5, max_shear_left=10, max_shear_right=10)\n",
    "p.gaussian_distortion(probability=0.5, corner='bell', method='in', grid_height=4, grid_width=4, magnitude=4)\n",
    "p.skew_top_bottom(probability=0.5, magnitude=.5)\n",
    "p.skew_left_right(probability=0.5, magnitude=.5)\n",
    "p.skew_corner(probability=0.5, magnitude=.5)\n",
    "p.resize(probability=1,width=256, height=256)"
   ]
  },
  {
   "cell_type": "code",
   "execution_count": null,
   "id": "9e29435d",
   "metadata": {},
   "outputs": [],
   "source": []
  }
 ],
 "metadata": {
  "kernelspec": {
   "display_name": "Python 3 (ipykernel)",
   "language": "python",
   "name": "python3"
  },
  "language_info": {
   "codemirror_mode": {
    "name": "ipython",
    "version": 3
   },
   "file_extension": ".py",
   "mimetype": "text/x-python",
   "name": "python",
   "nbconvert_exporter": "python",
   "pygments_lexer": "ipython3",
   "version": "3.10.8"
  }
 },
 "nbformat": 4,
 "nbformat_minor": 5
}
